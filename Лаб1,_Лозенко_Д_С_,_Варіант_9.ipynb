{
  "cells": [
    {
      "cell_type": "markdown",
      "metadata": {
        "id": "view-in-github",
        "colab_type": "text"
      },
      "source": [
        "<a href=\"https://colab.research.google.com/github/Yotun12/ML/blob/main/%D0%9B%D0%B0%D0%B11%2C_%D0%9B%D0%BE%D0%B7%D0%B5%D0%BD%D0%BA%D0%BE_%D0%94_%D0%A1_%2C_%D0%92%D0%B0%D1%80%D1%96%D0%B0%D0%BD%D1%82_9.ipynb\" target=\"_parent\"><img src=\"https://colab.research.google.com/assets/colab-badge.svg\" alt=\"Open In Colab\"/></a>"
      ]
    },
    {
      "cell_type": "code",
      "source": [
        "!pip install numpy"
      ],
      "metadata": {
        "colab": {
          "base_uri": "https://localhost:8080/"
        },
        "id": "ItVjzgrpztZx",
        "outputId": "2c2dd09f-6682-497f-d7a7-98871e2818d6"
      },
      "execution_count": null,
      "outputs": [
        {
          "output_type": "stream",
          "name": "stdout",
          "text": [
            "Requirement already satisfied: numpy in /usr/local/lib/python3.12/dist-packages (2.0.2)\n"
          ]
        }
      ]
    },
    {
      "cell_type": "code",
      "source": [
        "import numpy as np\n",
        "np.__version__"
      ],
      "metadata": {
        "colab": {
          "base_uri": "https://localhost:8080/",
          "height": 35
        },
        "id": "psLfn0spz0GI",
        "outputId": "41fe8508-bb65-4dbe-a3ec-ab2eea3cf7ef"
      },
      "execution_count": null,
      "outputs": [
        {
          "output_type": "execute_result",
          "data": {
            "text/plain": [
              "'2.0.2'"
            ],
            "application/vnd.google.colaboratory.intrinsic+json": {
              "type": "string"
            }
          },
          "metadata": {},
          "execution_count": 5
        }
      ]
    },
    {
      "cell_type": "markdown",
      "source": [
        "Завдання 1: Створити матрицю 3*3 та заповнити її натуральними числами від 1 до 5"
      ],
      "metadata": {
        "id": "4T-W9FA00GbQ"
      }
    },
    {
      "cell_type": "code",
      "source": [
        "matrix = np.random.randint(1, 6, size=(3,3) )\n",
        "matrix\n"
      ],
      "metadata": {
        "colab": {
          "base_uri": "https://localhost:8080/"
        },
        "id": "OeFXPBCP0Epr",
        "outputId": "bb38b5e4-7aa7-4e4c-aae7-e4796d6d32e0"
      },
      "execution_count": null,
      "outputs": [
        {
          "output_type": "execute_result",
          "data": {
            "text/plain": [
              "array([[2, 3, 3],\n",
              "       [4, 1, 4],\n",
              "       [4, 4, 2]])"
            ]
          },
          "metadata": {},
          "execution_count": 11
        }
      ]
    },
    {
      "cell_type": "markdown",
      "source": [
        "Завдання 2: Обчислити визначник матриці"
      ],
      "metadata": {
        "id": "xsQoYAoT07kD"
      }
    },
    {
      "cell_type": "code",
      "source": [
        "det = np.linalg.det(matrix)\n",
        "det"
      ],
      "metadata": {
        "colab": {
          "base_uri": "https://localhost:8080/"
        },
        "id": "Wjx-d9em0785",
        "outputId": "3d0ac3e3-4cd6-4de5-8599-fc2d4aebc3fb"
      },
      "execution_count": null,
      "outputs": [
        {
          "output_type": "execute_result",
          "data": {
            "text/plain": [
              "np.float64(32.0)"
            ]
          },
          "metadata": {},
          "execution_count": 12
        }
      ]
    },
    {
      "cell_type": "markdown",
      "source": [
        "Завдання 3: Знайти добуток всіх елементів матриці"
      ],
      "metadata": {
        "id": "jtzB4ROE1M5C"
      }
    },
    {
      "cell_type": "code",
      "source": [
        "product=np.prod(matrix)\n",
        "product"
      ],
      "metadata": {
        "colab": {
          "base_uri": "https://localhost:8080/"
        },
        "id": "5VzwWC_r1NQ8",
        "outputId": "e3a30b94-1653-4ff7-82df-8f54e00431c1"
      },
      "execution_count": null,
      "outputs": [
        {
          "output_type": "execute_result",
          "data": {
            "text/plain": [
              "np.int64(9216)"
            ]
          },
          "metadata": {},
          "execution_count": 13
        }
      ]
    },
    {
      "cell_type": "code",
      "source": [
        "prod_1=np.prod(matrix[0])\n",
        "prod_2=np.prod(matrix[1])\n",
        "prod_3=np.prod(matrix[2])\n",
        "prod_1*prod_2*prod_3\n"
      ],
      "metadata": {
        "colab": {
          "base_uri": "https://localhost:8080/"
        },
        "id": "nt5uFhm32Opu",
        "outputId": "22e8a833-dfc1-4661-8c78-9069905939d1"
      },
      "execution_count": null,
      "outputs": [
        {
          "output_type": "execute_result",
          "data": {
            "text/plain": [
              "np.int64(9216)"
            ]
          },
          "metadata": {},
          "execution_count": 15
        }
      ]
    },
    {
      "cell_type": "markdown",
      "source": [
        "Завдання 4: Знайти суму всіх елементів матриці"
      ],
      "metadata": {
        "id": "rWwJUoQ31hSq"
      }
    },
    {
      "cell_type": "code",
      "source": [
        "sum = np.sum(matrix)\n",
        "sum"
      ],
      "metadata": {
        "colab": {
          "base_uri": "https://localhost:8080/"
        },
        "id": "d36r9C4Q1n0_",
        "outputId": "d88701af-c20b-4cdd-9311-58f18222bf22"
      },
      "execution_count": null,
      "outputs": [
        {
          "output_type": "execute_result",
          "data": {
            "text/plain": [
              "np.int64(27)"
            ]
          },
          "metadata": {},
          "execution_count": 14
        }
      ]
    },
    {
      "cell_type": "markdown",
      "source": [
        "Завдання 5: Знайти найбільший та найменший елемент матриці"
      ],
      "metadata": {
        "id": "XOpLNDyK2i1A"
      }
    },
    {
      "cell_type": "code",
      "source": [
        "max_element=np.max(matrix)\n",
        "print(\"Найбільший елемент матриці\", max_element)\n",
        "min_element=np.min(matrix)\n",
        "print(\"Найменший елемент матриці\", min_element)"
      ],
      "metadata": {
        "colab": {
          "base_uri": "https://localhost:8080/"
        },
        "id": "I-0PyYkN2o9b",
        "outputId": "200db3bb-7045-4cb6-d858-a4238a42969d"
      },
      "execution_count": null,
      "outputs": [
        {
          "output_type": "stream",
          "name": "stdout",
          "text": [
            "Найбільший елемент матриці 4\n",
            "Найменший елемент матриці 1\n"
          ]
        }
      ]
    },
    {
      "cell_type": "markdown",
      "source": [
        "Завдання 6: Знайти середнє значення матриці"
      ],
      "metadata": {
        "id": "5Ii_CIqD3TFQ"
      }
    },
    {
      "cell_type": "code",
      "source": [
        "mean=np.mean(matrix)\n",
        "print(\"Середнє значення матриці\", mean)"
      ],
      "metadata": {
        "colab": {
          "base_uri": "https://localhost:8080/"
        },
        "id": "_WvZOHX53yx4",
        "outputId": "7818694f-e48c-493d-8b7a-366466ee712d"
      },
      "execution_count": null,
      "outputs": [
        {
          "output_type": "stream",
          "name": "stdout",
          "text": [
            "Середнє значення матриці 3.0\n"
          ]
        }
      ]
    },
    {
      "cell_type": "markdown",
      "source": [
        "Завдання 7: Знайти матрицющо складена з квадратних коренів"
      ],
      "metadata": {
        "id": "RIEfcAPU5dVt"
      }
    },
    {
      "cell_type": "code",
      "source": [
        "sqrt_m=np.sqrt(matrix)\n",
        "print(\"Матриця з квадратних коренів\")\n",
        "print(sqrt_m)"
      ],
      "metadata": {
        "colab": {
          "base_uri": "https://localhost:8080/"
        },
        "id": "FFRPTvEJ5jzI",
        "outputId": "536cc2e8-c575-4616-ba16-befd11a6ac3d"
      },
      "execution_count": null,
      "outputs": [
        {
          "output_type": "stream",
          "name": "stdout",
          "text": [
            "Матриця з квадратних коренів\n",
            "[[1.41421356 1.73205081 1.73205081]\n",
            " [2.         1.         2.        ]\n",
            " [2.         2.         1.41421356]]\n"
          ]
        }
      ]
    },
    {
      "cell_type": "markdown",
      "source": [
        "Завдання 8: Обчислити суму елементів кожного рядка. Відповідь записати як вектор-стовпчик"
      ],
      "metadata": {
        "id": "6VwDSPi658A6"
      }
    },
    {
      "cell_type": "code",
      "source": [
        "row_sums=np.sum(matrix, axis=1).reshape(-1,1)\n",
        "print(\"Сума елементів кожного рядка\")\n",
        "print(row_sums)"
      ],
      "metadata": {
        "colab": {
          "base_uri": "https://localhost:8080/"
        },
        "id": "tNQGkLOh6JBW",
        "outputId": "ef2c269d-19c6-4150-a200-487cdc4bd27e"
      },
      "execution_count": null,
      "outputs": [
        {
          "output_type": "stream",
          "name": "stdout",
          "text": [
            "Сума елементів кожного рядка\n",
            "[[ 8]\n",
            " [ 9]\n",
            " [10]]\n"
          ]
        }
      ]
    },
    {
      "cell_type": "markdown",
      "source": [
        "Завдання 9: Створити вектор, що містить 25 елементів. Заповнити числами від 0 до 9. Відсортувати числа за спаданням"
      ],
      "metadata": {
        "id": "S3JQu1NO61n7"
      }
    },
    {
      "cell_type": "code",
      "source": [
        "vector=np.random.randint(0,10,size=25)\n",
        "print(\"Початковий вектор\")\n",
        "print(vector)\n",
        "sort_vector=np.sort(vector)[::-1]\n",
        "print(\"Вектор відсортований за спаданням\")\n",
        "print(sort_vector)"
      ],
      "metadata": {
        "colab": {
          "base_uri": "https://localhost:8080/"
        },
        "id": "6gA9CAnw786d",
        "outputId": "82369e76-bccf-4c34-dda2-deecab19feaa"
      },
      "execution_count": null,
      "outputs": [
        {
          "output_type": "stream",
          "name": "stdout",
          "text": [
            "Початковий вектор\n",
            "[7 1 5 4 8 0 2 5 8 7 6 2 0 0 9 2 7 7 7 6 3 0 1 8 1]\n",
            "Вектор відсортований за спаданням\n",
            "[9 8 8 8 7 7 7 7 7 6 6 5 5 4 3 2 2 2 1 1 1 0 0 0 0]\n"
          ]
        }
      ]
    },
    {
      "cell_type": "markdown",
      "source": [
        "Завдання 10: Знайти моду, медіану, середнє, максимальне та мінімальне значення"
      ],
      "metadata": {
        "id": "MoRcQnPO9FoA"
      }
    },
    {
      "cell_type": "code",
      "source": [
        "!pip install scipy"
      ],
      "metadata": {
        "colab": {
          "base_uri": "https://localhost:8080/"
        },
        "id": "R-32SESe9b6K",
        "outputId": "a5d1cefe-a228-4c3f-98c6-005747c53adb"
      },
      "execution_count": null,
      "outputs": [
        {
          "output_type": "stream",
          "name": "stdout",
          "text": [
            "Requirement already satisfied: scipy in /usr/local/lib/python3.12/dist-packages (1.16.1)\n",
            "Requirement already satisfied: numpy<2.6,>=1.25.2 in /usr/local/lib/python3.12/dist-packages (from scipy) (2.0.2)\n"
          ]
        }
      ]
    },
    {
      "cell_type": "code",
      "source": [
        "from scipy import stats"
      ],
      "metadata": {
        "id": "KWKHXNgH9Rv6"
      },
      "execution_count": null,
      "outputs": []
    },
    {
      "cell_type": "code",
      "source": [
        "mode=stats.mode(vector)\n",
        "median=np.median(vector)\n",
        "mean=np.mean(vector)\n",
        "max=np.max(vector)\n",
        "min=np.min(vector)\n",
        "print(\"Мода вектора\",mode)\n",
        "print(\"Медіана вектора\",median)\n",
        "print(\"Середнє значення вектора\",mean)\n",
        "print(\"Максимальне значення вектора\",max)\n",
        "print(\"Мінімальне значення вектора\",min)\n"
      ],
      "metadata": {
        "colab": {
          "base_uri": "https://localhost:8080/"
        },
        "id": "gH11h8uV9n8X",
        "outputId": "13b71c19-c9f1-469a-f272-c623ad119555"
      },
      "execution_count": null,
      "outputs": [
        {
          "output_type": "stream",
          "name": "stdout",
          "text": [
            "Мода вектора ModeResult(mode=np.int64(7), count=np.int64(5))\n",
            "Медіана вектора 5.0\n",
            "Середнє значення вектора 4.24\n",
            "Максимальне значення вектора 9\n",
            "Мінімальне значення вектора 0\n"
          ]
        }
      ]
    },
    {
      "cell_type": "markdown",
      "source": [
        "Завдання 11: Створити дві матриці 4*4 та заповнити числами від 1 до 10. Обчислити суму, різницю, поелементний добуток та частку"
      ],
      "metadata": {
        "id": "bHrIvrJg-6PN"
      }
    },
    {
      "cell_type": "code",
      "source": [
        "matrix_1=np.random.randint(1,11, size=(4,4))\n",
        "matrix_2=np.random.randint(1,11, size=(4,4))\n",
        "print(\"Матриця 1\")\n",
        "print(matrix_1)\n",
        "print(\"\\nМатриця 2\")\n",
        "print(matrix_2)"
      ],
      "metadata": {
        "colab": {
          "base_uri": "https://localhost:8080/"
        },
        "id": "w4RFE_Ll_Oun",
        "outputId": "c301ac59-a8a5-4300-f8ba-7b9af5001def"
      },
      "execution_count": null,
      "outputs": [
        {
          "output_type": "stream",
          "name": "stdout",
          "text": [
            "Матриця 1\n",
            "[[ 2  7  4  4]\n",
            " [ 7  9  4  9]\n",
            " [ 8  4  9  6]\n",
            " [10  7  3  2]]\n",
            "\n",
            "Матриця 2\n",
            "[[ 3  3  8  7]\n",
            " [ 8  6  9  9]\n",
            " [ 5 10 10  9]\n",
            " [ 2  8  4  6]]\n"
          ]
        }
      ]
    },
    {
      "cell_type": "code",
      "source": [
        "matrix_sum=matrix_1+matrix_2\n",
        "matrix_diff=matrix_1-matrix_2\n",
        "matrix_prod=matrix_1*matrix_2\n",
        "matrix_divis=np.divide(matrix_1,matrix_2, where=(matrix_2!=0))\n",
        "print(\"Сума матриць\")\n",
        "print(matrix_sum)\n",
        "print(\"\\nРізниця матриць\")\n",
        "print(matrix_diff)\n",
        "print(\"\\nПоелементний добуток матриць\")\n",
        "print(matrix_prod)\n",
        "print(\"\\nЧастка матриць\")\n",
        "print(matrix_divis)"
      ],
      "metadata": {
        "colab": {
          "base_uri": "https://localhost:8080/"
        },
        "id": "MG-t8gDsABJ2",
        "outputId": "27d3fca9-df0e-4adb-9cf9-0980e25ecdce"
      },
      "execution_count": null,
      "outputs": [
        {
          "output_type": "stream",
          "name": "stdout",
          "text": [
            "Сума матриць\n",
            "[[ 5 10 12 11]\n",
            " [15 15 13 18]\n",
            " [13 14 19 15]\n",
            " [12 15  7  8]]\n",
            "\n",
            "Різниця матриць\n",
            "[[-1  4 -4 -3]\n",
            " [-1  3 -5  0]\n",
            " [ 3 -6 -1 -3]\n",
            " [ 8 -1 -1 -4]]\n",
            "\n",
            "Поелементний добуток матриць\n",
            "[[ 6 21 32 28]\n",
            " [56 54 36 81]\n",
            " [40 40 90 54]\n",
            " [20 56 12 12]]\n",
            "\n",
            "Частка матриць\n",
            "[[0.66666667 2.33333333 0.5        0.57142857]\n",
            " [0.875      1.5        0.44444444 1.        ]\n",
            " [1.6        0.4        0.9        0.66666667]\n",
            " [5.         0.875      0.75       0.33333333]]\n"
          ]
        }
      ]
    },
    {
      "cell_type": "markdown",
      "source": [
        "Висновок: Протягом лабораторної роботи ми ознайомились з можливостями бібліотеки Numpy і навчились за її допомогою створювати та взаємодіяти з матрицями, векторами."
      ],
      "metadata": {
        "id": "hMWEO-SFDTZI"
      }
    }
  ],
  "metadata": {
    "colab": {
      "toc_visible": true,
      "provenance": [],
      "include_colab_link": true
    },
    "kernelspec": {
      "display_name": "Python 3",
      "name": "python3"
    }
  },
  "nbformat": 4,
  "nbformat_minor": 0
}