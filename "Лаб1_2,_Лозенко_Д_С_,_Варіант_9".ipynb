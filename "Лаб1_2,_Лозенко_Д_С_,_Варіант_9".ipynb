{
  "cells": [
    {
      "cell_type": "markdown",
      "metadata": {
        "id": "view-in-github",
        "colab_type": "text"
      },
      "source": [
        "<a href=\"https://colab.research.google.com/github/Yotun12/ML/blob/main/%22%D0%9B%D0%B0%D0%B11_2%2C_%D0%9B%D0%BE%D0%B7%D0%B5%D0%BD%D0%BA%D0%BE_%D0%94_%D0%A1_%2C_%D0%92%D0%B0%D1%80%D1%96%D0%B0%D0%BD%D1%82_9%22.ipynb\" target=\"_parent\"><img src=\"https://colab.research.google.com/assets/colab-badge.svg\" alt=\"Open In Colab\"/></a>"
      ]
    },
    {
      "cell_type": "code",
      "source": [
        "!pip install numpy"
      ],
      "metadata": {
        "id": "Vszq35HLwuY_",
        "outputId": "910a5b34-e37e-4267-f00b-d4020f87222a",
        "colab": {
          "base_uri": "https://localhost:8080/"
        }
      },
      "execution_count": null,
      "outputs": [
        {
          "output_type": "stream",
          "name": "stdout",
          "text": [
            "Requirement already satisfied: numpy in /usr/local/lib/python3.12/dist-packages (2.0.2)\n"
          ]
        }
      ]
    },
    {
      "cell_type": "code",
      "source": [
        "import numpy as np"
      ],
      "metadata": {
        "id": "zLXIuBdcw5s6"
      },
      "execution_count": null,
      "outputs": []
    },
    {
      "cell_type": "markdown",
      "source": [
        "Завдання 1: Задати вектор, що складається з перших 5 натуральних чисел"
      ],
      "metadata": {
        "id": "nBNWFHQDw9GK"
      }
    },
    {
      "cell_type": "code",
      "source": [
        "vector=np.array([1,2,3,4,5])\n",
        "vector"
      ],
      "metadata": {
        "id": "mv5d2OTaxIBQ",
        "outputId": "0502f747-c562-4168-c956-fbb65e87b2c0",
        "colab": {
          "base_uri": "https://localhost:8080/"
        }
      },
      "execution_count": null,
      "outputs": [
        {
          "output_type": "execute_result",
          "data": {
            "text/plain": [
              "array([1, 2, 3, 4, 5])"
            ]
          },
          "metadata": {},
          "execution_count": 4
        }
      ]
    },
    {
      "cell_type": "markdown",
      "source": [
        "Завдання 2: Транспорування вектора"
      ],
      "metadata": {
        "id": "wpBKEyujxTDB"
      }
    },
    {
      "cell_type": "code",
      "source": [
        "v_1=np.matrix([1,2,3,4,5])\n",
        "print(v_1)\n",
        "v_2=v_1.T\n",
        "v_2"
      ],
      "metadata": {
        "id": "p1_1GB04xX44",
        "outputId": "63837be6-fe3b-4000-ef77-eac5ea8e8c22",
        "colab": {
          "base_uri": "https://localhost:8080/"
        }
      },
      "execution_count": null,
      "outputs": [
        {
          "output_type": "stream",
          "name": "stdout",
          "text": [
            "[[1 2 3 4 5]]\n"
          ]
        },
        {
          "output_type": "execute_result",
          "data": {
            "text/plain": [
              "matrix([[1],\n",
              "        [2],\n",
              "        [3],\n",
              "        [4],\n",
              "        [5]])"
            ]
          },
          "metadata": {},
          "execution_count": 5
        }
      ]
    },
    {
      "cell_type": "markdown",
      "source": [
        "Завдання 3: Напишіть функцію, яка повертає вектор у зворотному порядку"
      ],
      "metadata": {
        "id": "VaibrFSqxoFy"
      }
    },
    {
      "cell_type": "code",
      "source": [
        "v=np.array([1,2,3,4,5])\n",
        "print(v[::-1])"
      ],
      "metadata": {
        "id": "y-GK7PIgxqkV",
        "outputId": "da1b820f-81f1-4af0-f6f1-4b07decb87bd",
        "colab": {
          "base_uri": "https://localhost:8080/"
        }
      },
      "execution_count": null,
      "outputs": [
        {
          "output_type": "stream",
          "name": "stdout",
          "text": [
            "[5 4 3 2 1]\n"
          ]
        }
      ]
    },
    {
      "cell_type": "code",
      "source": [
        "v=np.flip([1,2,3,4,5])\n",
        "print(v)"
      ],
      "metadata": {
        "id": "VcNWQLNKzLTY",
        "outputId": "d7bde766-136f-43a1-eeeb-f1b8c61084b3",
        "colab": {
          "base_uri": "https://localhost:8080/"
        }
      },
      "execution_count": null,
      "outputs": [
        {
          "output_type": "stream",
          "name": "stdout",
          "text": [
            "[5 4 3 2 1]\n"
          ]
        }
      ]
    },
    {
      "cell_type": "markdown",
      "source": [
        "Завдання 4: Обчисліть середнє значення вектор"
      ],
      "metadata": {
        "id": "qsHMFHDixq7H"
      }
    },
    {
      "cell_type": "code",
      "source": [
        "print(np.mean(v))"
      ],
      "metadata": {
        "id": "XqoL8RCgz2ph",
        "outputId": "99a1e793-d3c6-4c31-dec0-d0458165b7a2",
        "colab": {
          "base_uri": "https://localhost:8080/"
        }
      },
      "execution_count": null,
      "outputs": [
        {
          "output_type": "stream",
          "name": "stdout",
          "text": [
            "3.0\n"
          ]
        }
      ]
    },
    {
      "cell_type": "markdown",
      "source": [
        "Задвання 5: Знайти найбільше та найменше значення"
      ],
      "metadata": {
        "id": "np5FVf3C0c0l"
      }
    },
    {
      "cell_type": "code",
      "source": [
        "print(np.max(v))\n",
        "print(np.min(v))"
      ],
      "metadata": {
        "id": "fylFIX_i0jFP",
        "outputId": "1c3a9c4e-690a-49b3-dfd9-489ca2976dc0",
        "colab": {
          "base_uri": "https://localhost:8080/"
        }
      },
      "execution_count": null,
      "outputs": [
        {
          "output_type": "stream",
          "name": "stdout",
          "text": [
            "5\n",
            "1\n"
          ]
        }
      ]
    },
    {
      "cell_type": "markdown",
      "source": [
        "Завдання 6: Обчислити скалярний добуток (dot.product) двох вектора"
      ],
      "metadata": {
        "id": "TeDlBbPG0wAq"
      }
    },
    {
      "cell_type": "code",
      "source": [
        "v1=np.array([1,2,3])\n",
        "v2=np.array([4,5,6])\n",
        "\n",
        "print(np.dot(v1,v2))\n",
        "print(v1*v2)"
      ],
      "metadata": {
        "id": "dqA0sS-X04Wz",
        "outputId": "f4082805-2fb7-4cce-c39b-df90ac92e43c",
        "colab": {
          "base_uri": "https://localhost:8080/"
        }
      },
      "execution_count": null,
      "outputs": [
        {
          "output_type": "stream",
          "name": "stdout",
          "text": [
            "32\n",
            "[ 4 10 18]\n"
          ]
        }
      ]
    },
    {
      "cell_type": "markdown",
      "source": [
        "Завдання 7: Напишіть функцію, яка нормалізує вектор (зводить до одиничної множини)"
      ],
      "metadata": {
        "id": "-WawGNNK1Re4"
      }
    },
    {
      "cell_type": "code",
      "source": [
        "v=np.array([1,2,3,4,5])\n",
        "norm=np.linalg.norm(v)\n",
        "print(norm)\n",
        "v/norm"
      ],
      "metadata": {
        "id": "-wlpe2_p1R2W",
        "outputId": "56e825ee-ec50-468f-f49c-90851873e53b",
        "colab": {
          "base_uri": "https://localhost:8080/"
        }
      },
      "execution_count": null,
      "outputs": [
        {
          "output_type": "stream",
          "name": "stdout",
          "text": [
            "7.416198487095663\n"
          ]
        },
        {
          "output_type": "execute_result",
          "data": {
            "text/plain": [
              "array([0.13483997, 0.26967994, 0.40451992, 0.53935989, 0.67419986])"
            ]
          },
          "metadata": {},
          "execution_count": 12
        }
      ]
    },
    {
      "cell_type": "markdown",
      "source": [
        "Завдання 8: Задати два вектори. Визначет, чи є воно ортогональним."
      ],
      "metadata": {
        "id": "KnQpCWUK1SM9"
      }
    },
    {
      "cell_type": "code",
      "source": [
        "v1=np.array([1,0,0])\n",
        "v2=np.array([0,1,0])\n",
        "np.dot(v1,v2)\n",
        "\n"
      ],
      "metadata": {
        "id": "JZ_OYKxb1T9o",
        "outputId": "b5645e21-ab89-4602-8183-1e0ee651f1ed",
        "colab": {
          "base_uri": "https://localhost:8080/"
        }
      },
      "execution_count": null,
      "outputs": [
        {
          "output_type": "execute_result",
          "data": {
            "text/plain": [
              "np.int64(0)"
            ]
          },
          "metadata": {},
          "execution_count": 13
        }
      ]
    },
    {
      "cell_type": "markdown",
      "source": [
        "Завдання 9: Визначити унікальні елементи вектора"
      ],
      "metadata": {
        "id": "nH_dN8_w25nO"
      }
    },
    {
      "cell_type": "code",
      "source": [
        "v=np.array([1,2,3,2,4,5,3])\n",
        "np.unique(v)"
      ],
      "metadata": {
        "id": "Z7wRuFBS252g",
        "outputId": "6f7b7d12-5ca1-48a1-eb36-a121f8626eb1",
        "colab": {
          "base_uri": "https://localhost:8080/"
        }
      },
      "execution_count": null,
      "outputs": [
        {
          "output_type": "execute_result",
          "data": {
            "text/plain": [
              "array([1, 2, 3, 4, 5])"
            ]
          },
          "metadata": {},
          "execution_count": 14
        }
      ]
    },
    {
      "cell_type": "markdown",
      "source": [
        "Завдання 10: Знайти вектор"
      ],
      "metadata": {
        "id": "30anqSqw3LsH"
      }
    },
    {
      "cell_type": "code",
      "source": [
        "v1=np.array([1,2,3])\n",
        "v2=np.array([4,5,6])\n",
        "print(v1-v2)\n",
        "print(v2-v1)\n",
        "print(v1+v2)\n",
        "print(v2+v1)\n",
        "print(v1*v2)\n",
        "print(v2*v1)\n",
        "print(v1/v2)\n",
        "print(v2/v1)"
      ],
      "metadata": {
        "id": "8wu7xy8I3QEY",
        "outputId": "48aaad80-ba7e-431d-97e4-f6c48594f1a8",
        "colab": {
          "base_uri": "https://localhost:8080/"
        }
      },
      "execution_count": null,
      "outputs": [
        {
          "output_type": "stream",
          "name": "stdout",
          "text": [
            "[-3 -3 -3]\n",
            "[3 3 3]\n",
            "[5 7 9]\n",
            "[5 7 9]\n",
            "[ 4 10 18]\n",
            "[ 4 10 18]\n",
            "[0.25 0.4  0.5 ]\n",
            "[4.  2.5 2. ]\n"
          ]
        }
      ]
    },
    {
      "cell_type": "markdown",
      "source": [
        "Завдання 11: Перевірити, чи дорівнює довжина вектор 5"
      ],
      "metadata": {
        "id": "MnZGSKBh3QOz"
      }
    },
    {
      "cell_type": "code",
      "source": [
        "v=np.array([1,2,3,4,5])\n",
        "length=np.linalg.norm(v)\n",
        "np.isclose(length,5)"
      ],
      "metadata": {
        "id": "XKKi955-3SRw",
        "outputId": "ae7c013d-d310-4230-830a-afec7ed66898",
        "colab": {
          "base_uri": "https://localhost:8080/"
        }
      },
      "execution_count": null,
      "outputs": [
        {
          "output_type": "execute_result",
          "data": {
            "text/plain": [
              "np.False_"
            ]
          },
          "metadata": {},
          "execution_count": 17
        }
      ]
    },
    {
      "cell_type": "markdown",
      "source": [
        "Завдання 12: Задати матрицю заповнену випадковими числами"
      ],
      "metadata": {
        "id": "OI5UR2iH3R67"
      }
    },
    {
      "cell_type": "code",
      "source": [
        "a=np.random.randint(0, 11, (3,3))\n",
        "a"
      ],
      "metadata": {
        "id": "lUx22Xhv3UYZ",
        "outputId": "d6f2cd7d-5241-45d9-8925-5729222b1151",
        "colab": {
          "base_uri": "https://localhost:8080/"
        }
      },
      "execution_count": null,
      "outputs": [
        {
          "output_type": "execute_result",
          "data": {
            "text/plain": [
              "array([[ 8,  9,  2],\n",
              "       [ 1, 10,  1],\n",
              "       [ 8, 10,  2]])"
            ]
          },
          "metadata": {},
          "execution_count": 18
        }
      ]
    },
    {
      "cell_type": "markdown",
      "source": [
        "Завдання 13: Визначити визначник матриці"
      ],
      "metadata": {
        "id": "poBXUXY95_HV"
      }
    },
    {
      "cell_type": "code",
      "source": [
        "np.linalg.det(a)"
      ],
      "metadata": {
        "id": "gIiIz6pQ5_XY",
        "outputId": "69701a33-74a0-404a-891a-fbdd0d4cae30",
        "colab": {
          "base_uri": "https://localhost:8080/"
        }
      },
      "execution_count": null,
      "outputs": [
        {
          "output_type": "execute_result",
          "data": {
            "text/plain": [
              "np.float64(-5.999999999999992)"
            ]
          },
          "metadata": {},
          "execution_count": 20
        }
      ]
    },
    {
      "cell_type": "markdown",
      "source": [
        "Завдання 14: Знаходження оберненої матриці"
      ],
      "metadata": {
        "id": "Q_cLCNky5_nE"
      }
    },
    {
      "cell_type": "code",
      "source": [
        "np.linalg.inv(a)"
      ],
      "metadata": {
        "id": "aCdewNvd5_5G",
        "outputId": "236b4c92-9813-4db7-9b93-e5c955c30629",
        "colab": {
          "base_uri": "https://localhost:8080/"
        }
      },
      "execution_count": null,
      "outputs": [
        {
          "output_type": "execute_result",
          "data": {
            "text/plain": [
              "array([[-1.66666667e+00, -3.33333333e-01,  1.83333333e+00],\n",
              "       [-1.00000000e+00, -1.50114662e-16,  1.00000000e+00],\n",
              "       [ 1.16666667e+01,  1.33333333e+00, -1.18333333e+01]])"
            ]
          },
          "metadata": {},
          "execution_count": 22
        }
      ]
    },
    {
      "cell_type": "markdown",
      "source": [
        "Завдання 15: Розв'яжіть систему лінійних рівнянь A*x=b, де A-матриця коефіцієнтів, b-вектор вільних членів"
      ],
      "metadata": {
        "id": "i9v627d-6Esq"
      }
    },
    {
      "cell_type": "code",
      "source": [
        "a=np.array([[1,3,-4],[0,2,-3],[-2,2,5]])\n",
        "b=np.array([5,3,4])\n",
        "x=np.linalg.solve(a,b)\n",
        "print(x)\n",
        "inv_a=np.linalg.inv(a)\n",
        "x1=inv_a.dot(b)\n",
        "print(x1)"
      ],
      "metadata": {
        "id": "3zcorEl06Gvu",
        "outputId": "7518d753-809a-42d8-9e3f-a9d32aea2fd1",
        "colab": {
          "base_uri": "https://localhost:8080/"
        }
      },
      "execution_count": null,
      "outputs": [
        {
          "output_type": "stream",
          "name": "stdout",
          "text": [
            "[0.38888889 1.83333333 0.22222222]\n",
            "[0.38888889 1.83333333 0.22222222]\n"
          ]
        }
      ]
    },
    {
      "cell_type": "markdown",
      "source": [
        "Завдання 16: Множення двох матриць"
      ],
      "metadata": {
        "id": "OH4EWf_s6HFH"
      }
    },
    {
      "cell_type": "code",
      "source": [
        "a=np.array([[1,3,-4],[0,2,-3],[-2,2,5]])\n",
        "b=np.array([5,3,4])\n",
        "np.dot(a,b)\n"
      ],
      "metadata": {
        "id": "4TkWLxaR6v_J",
        "outputId": "0e2fcb5a-8c72-4a56-dd63-b4cc7d3ee898",
        "colab": {
          "base_uri": "https://localhost:8080/"
        }
      },
      "execution_count": null,
      "outputs": [
        {
          "output_type": "execute_result",
          "data": {
            "text/plain": [
              "array([-2, -6, 16])"
            ]
          },
          "metadata": {},
          "execution_count": 25
        }
      ]
    },
    {
      "cell_type": "code",
      "source": [
        "a=np.matrix([[1,3,-4],[0,2,-3]])\n",
        "b=np.matrix([[5,3,4],[2,3,5],[3,2,3]])\n",
        "print(a)\n",
        "print(b)\n",
        "print(np.dot(a,b))\n"
      ],
      "metadata": {
        "id": "srbs3IOe8sTA",
        "outputId": "0ebdfc52-6b85-4f8a-b8bc-9b4df91e2d9b",
        "colab": {
          "base_uri": "https://localhost:8080/"
        }
      },
      "execution_count": null,
      "outputs": [
        {
          "output_type": "stream",
          "name": "stdout",
          "text": [
            "[[ 1  3 -4]\n",
            " [ 0  2 -3]]\n",
            "[[5 3 4]\n",
            " [2 3 5]\n",
            " [3 2 3]]\n",
            "[[-1  4  7]\n",
            " [-5  0  1]]\n"
          ]
        }
      ]
    },
    {
      "cell_type": "markdown",
      "source": [
        "Завдання 17: Транспорування матриці"
      ],
      "metadata": {
        "id": "pwMHRA5B6wO6"
      }
    },
    {
      "cell_type": "code",
      "source": [
        "print(a.T)\n",
        "print(b.T)"
      ],
      "metadata": {
        "id": "XCN6anvg6y5U",
        "outputId": "07c352dc-988e-42c9-9560-d9cade71d322",
        "colab": {
          "base_uri": "https://localhost:8080/"
        }
      },
      "execution_count": null,
      "outputs": [
        {
          "output_type": "stream",
          "name": "stdout",
          "text": [
            "[[ 1  0]\n",
            " [ 3  2]\n",
            " [-4 -3]]\n",
            "[[5 2 3]\n",
            " [3 3 2]\n",
            " [4 5 3]]\n"
          ]
        }
      ]
    },
    {
      "cell_type": "code",
      "source": [
        "print(np.transpose(a))\n",
        "print(np.transpose(b))"
      ],
      "metadata": {
        "id": "gb9kd2AA9jZL",
        "outputId": "5440fc06-cbff-49f3-8e1f-073cc0ff146d",
        "colab": {
          "base_uri": "https://localhost:8080/"
        }
      },
      "execution_count": null,
      "outputs": [
        {
          "output_type": "stream",
          "name": "stdout",
          "text": [
            "[[ 1  0]\n",
            " [ 3  2]\n",
            " [-4 -3]]\n",
            "[[5 2 3]\n",
            " [3 3 2]\n",
            " [4 5 3]]\n"
          ]
        }
      ]
    },
    {
      "cell_type": "markdown",
      "source": [
        "Завдання 18: Перевірка симетричності матриці"
      ],
      "metadata": {
        "id": "gsWotrAg6zHA"
      }
    },
    {
      "cell_type": "code",
      "source": [
        "matrix=np.matrix([[2,2,2],[2,2,2],[2,2,2]])\n",
        "np.allclose(matrix ,matrix.T)"
      ],
      "metadata": {
        "id": "2bFp5z7y9Ujc",
        "outputId": "87283e72-e8ca-4dea-e629-181937fe5977",
        "colab": {
          "base_uri": "https://localhost:8080/"
        }
      },
      "execution_count": null,
      "outputs": [
        {
          "output_type": "execute_result",
          "data": {
            "text/plain": [
              "True"
            ]
          },
          "metadata": {},
          "execution_count": 29
        }
      ]
    },
    {
      "cell_type": "markdown",
      "source": [
        "Завдання 19: Обчислення сліду матриці"
      ],
      "metadata": {
        "id": "hxa6r_2T-C9a"
      }
    },
    {
      "cell_type": "code",
      "source": [
        "np.trace(matrix)"
      ],
      "metadata": {
        "id": "DQH-ro9O-Ep2",
        "outputId": "8d5e54cf-668e-4e2d-9c0b-e7a0cdb4b035",
        "colab": {
          "base_uri": "https://localhost:8080/"
        }
      },
      "execution_count": null,
      "outputs": [
        {
          "output_type": "execute_result",
          "data": {
            "text/plain": [
              "np.int64(6)"
            ]
          },
          "metadata": {},
          "execution_count": 30
        }
      ]
    },
    {
      "cell_type": "markdown",
      "source": [
        "Завдання 20: Дії з матрицями"
      ],
      "metadata": {
        "id": "2uZYMwgj-E15"
      }
    },
    {
      "cell_type": "code",
      "source": [
        "a=np.matrix([[1,2],[3,4]])\n",
        "b=np.matrix([[5,6],[7,8]])\n",
        "print(np.add(a,b))\n",
        "print(np.subtract(a,b))\n",
        "print(np.multiply(a,b))\n",
        "print(np.divide(a,b))"
      ],
      "metadata": {
        "id": "leQzLYPE_dFL",
        "outputId": "2ed33b0f-810d-42e3-cbb7-bdc5038744c8",
        "colab": {
          "base_uri": "https://localhost:8080/"
        }
      },
      "execution_count": null,
      "outputs": [
        {
          "output_type": "stream",
          "name": "stdout",
          "text": [
            "[[ 6  8]\n",
            " [10 12]]\n",
            "[[-4 -4]\n",
            " [-4 -4]]\n",
            "[[ 5 12]\n",
            " [21 32]]\n",
            "[[0.2        0.33333333]\n",
            " [0.42857143 0.5       ]]\n"
          ]
        }
      ]
    },
    {
      "cell_type": "markdown",
      "source": [
        "Завдання 21: Піднесення матриці ло ступеня"
      ],
      "metadata": {
        "id": "Jb-c3rhxAzWi"
      }
    },
    {
      "cell_type": "code",
      "source": [
        "a=np.matrix([[1,2],[3,4]])\n",
        "np.linalg.matrix_power(a,2)"
      ],
      "metadata": {
        "id": "p4fYpJy2A-iZ",
        "outputId": "72112edb-8215-47d9-f64e-bfde0d286340",
        "colab": {
          "base_uri": "https://localhost:8080/"
        }
      },
      "execution_count": null,
      "outputs": [
        {
          "output_type": "execute_result",
          "data": {
            "text/plain": [
              "matrix([[ 7, 10],\n",
              "        [15, 22]])"
            ]
          },
          "metadata": {},
          "execution_count": 32
        }
      ]
    },
    {
      "cell_type": "markdown",
      "source": [
        "Завдання 22: Сортування рядків або стовпців матриці"
      ],
      "metadata": {
        "id": "lZiCi1lIAz4A"
      }
    },
    {
      "cell_type": "code",
      "source": [
        "b=np.matrix([[5,3,4],[2,3,5],[3,2,3]])\n",
        "print(b)\n",
        "print(np.sort(b,axis=0))\n",
        "print(np.sort(b,axis=1))\n",
        "print(np.sort(b,axis=None))"
      ],
      "metadata": {
        "id": "G748qMRTA0UH",
        "outputId": "ebb58ecf-1a27-4cfc-86d4-b4f0c8d09613",
        "colab": {
          "base_uri": "https://localhost:8080/"
        }
      },
      "execution_count": null,
      "outputs": [
        {
          "output_type": "stream",
          "name": "stdout",
          "text": [
            "[[5 3 4]\n",
            " [2 3 5]\n",
            " [3 2 3]]\n",
            "[[2 2 3]\n",
            " [3 3 4]\n",
            " [5 3 5]]\n",
            "[[3 4 5]\n",
            " [2 3 5]\n",
            " [2 3 3]]\n",
            "[[2 2 3 3 3 3 4 5 5]]\n"
          ]
        }
      ]
    },
    {
      "cell_type": "code",
      "source": [
        "a=np.matrix([[1,4],[3,1]])\n",
        "print(a)\n",
        "print(np.sort(a))"
      ],
      "metadata": {
        "id": "_DyBNt56B7J2",
        "outputId": "f3c29419-a6de-4b44-e73e-8fd4bfc4ef54",
        "colab": {
          "base_uri": "https://localhost:8080/"
        }
      },
      "execution_count": null,
      "outputs": [
        {
          "output_type": "stream",
          "name": "stdout",
          "text": [
            "[[1 4]\n",
            " [3 1]]\n",
            "[[1 4]\n",
            " [1 3]]\n"
          ]
        }
      ]
    },
    {
      "cell_type": "markdown",
      "source": [
        "Завданн 23: Підрахувати суму елементів кожного рядка матриці. Відповідь записати як вектор-стовпчик"
      ],
      "metadata": {
        "id": "udnfqJPdDTNX"
      }
    },
    {
      "cell_type": "code",
      "source": [
        "row_sums=np.sum(a, axis=1).reshape(-1,1)\n",
        "print(\"Сума елементів кожного рядка\")\n",
        "print(row_sums)\n"
      ],
      "metadata": {
        "id": "C8i5J5IQDTlC",
        "outputId": "7b274e96-be48-4b27-be5f-1c4e22bd471a",
        "colab": {
          "base_uri": "https://localhost:8080/"
        }
      },
      "execution_count": null,
      "outputs": [
        {
          "output_type": "stream",
          "name": "stdout",
          "text": [
            "Сума елементів кожного рядка\n",
            "[[5]\n",
            " [4]]\n"
          ]
        }
      ]
    },
    {
      "cell_type": "markdown",
      "source": [
        "Висновок: Протягом лабораторної роботи ми продовжили вивчення функцій та можливостей бібліотеки Numpy і як вона може ще взаємодіяти з вектора, і матрицями.  "
      ],
      "metadata": {
        "id": "8tTU3CVVgKZq"
      }
    }
  ],
  "metadata": {
    "colab": {
      "toc_visible": true,
      "provenance": [],
      "include_colab_link": true
    },
    "kernelspec": {
      "display_name": "Python 3",
      "name": "python3"
    }
  },
  "nbformat": 4,
  "nbformat_minor": 0
}